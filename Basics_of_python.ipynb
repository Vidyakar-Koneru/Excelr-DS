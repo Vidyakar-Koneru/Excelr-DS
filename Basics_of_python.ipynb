{
  "nbformat": 4,
  "nbformat_minor": 0,
  "metadata": {
    "colab": {
      "provenance": []
    },
    "kernelspec": {
      "name": "python3",
      "display_name": "Python 3"
    },
    "language_info": {
      "name": "python"
    }
  },
  "cells": [
    {
      "cell_type": "code",
      "source": [
        "num = int(input(\"Enter a number: \"))\n",
        "if num > 1:\n",
        "    for i in range(2, (num//2)+1):\n",
        "        if (num % i) == 0:\n",
        "            print(num, \"is not a prime number\")\n",
        "            break\n",
        "    else:\n",
        "        print(num, \"is a prime number\")\n",
        "else:\n",
        "    print(num, \"is not a natural number greater than 1\")"
      ],
      "metadata": {
        "colab": {
          "base_uri": "https://localhost:8080/"
        },
        "id": "_XAfqCHxHHVX",
        "outputId": "a87e79a8-4ffb-4529-e704-42e74c216c2d"
      },
      "execution_count": 7,
      "outputs": [
        {
          "output_type": "stream",
          "name": "stdout",
          "text": [
            "Enter a number: 10\n",
            "10 is not a prime number\n"
          ]
        }
      ]
    },
    {
      "cell_type": "code",
      "source": [
        "num = int(input(\"Enter a number: \"))\n",
        "if num > 1:\n",
        "    for i in range(2, (num//2)+1):\n",
        "        if (num % i) == 0:\n",
        "            print(num, \"is not a prime number\")\n",
        "            break\n",
        "    else:\n",
        "        print(num, \"is a prime number\")\n",
        "else:\n",
        "    print(num, \"is not a natural number greater than 1\")"
      ],
      "metadata": {
        "colab": {
          "base_uri": "https://localhost:8080/"
        },
        "id": "9qp_A4N-HHXw",
        "outputId": "9615e693-817e-488f-d950-963fb886257f"
      },
      "execution_count": 8,
      "outputs": [
        {
          "output_type": "stream",
          "name": "stdout",
          "text": [
            "Enter a number: 11\n",
            "11 is a prime number\n"
          ]
        }
      ]
    },
    {
      "cell_type": "code",
      "source": [
        "import random\n",
        "num1=random.randint(1,10)\n",
        "num2=random.randint(1,10)\n",
        "correct_ans=num1*num2\n",
        "user_ans=int(input(f'what is the product of {num1} and {num2}? '))\n",
        "if user_ans == correct_ans:\n",
        "    print(\"Correct! Well done.\")\n",
        "else:\n",
        "    print(f\"Incorrect. The correct answer is {correct_answer}.\")\n",
        "\n"
      ],
      "metadata": {
        "colab": {
          "base_uri": "https://localhost:8080/"
        },
        "id": "fNZHSBFPHHZ6",
        "outputId": "488940be-e2d7-475b-d4bd-e3f3716dc430"
      },
      "execution_count": 15,
      "outputs": [
        {
          "output_type": "stream",
          "name": "stdout",
          "text": [
            "what is the product of 6 and 3? 18\n",
            "Correct! Well done.\n"
          ]
        }
      ]
    },
    {
      "cell_type": "code",
      "source": [
        "import random\n",
        "num1=random.randint(1,10)\n",
        "num2=random.randint(1,10)\n",
        "correct_ans=num1*num2\n",
        "user_ans=int(input(f'what is the product of {num1} and {num2}? '))\n",
        "if user_ans == correct_ans:\n",
        "    print(\"Correct! Well done.\")\n",
        "else:\n",
        "    print(f\"Incorrect. The correct answer is {correct_ans}.\")"
      ],
      "metadata": {
        "colab": {
          "base_uri": "https://localhost:8080/"
        },
        "id": "zTZhiEoAHHb_",
        "outputId": "91697a83-f2d2-4293-f6c5-1745112ec838"
      },
      "execution_count": 17,
      "outputs": [
        {
          "output_type": "stream",
          "name": "stdout",
          "text": [
            "what is the product of 10 and 6? 61\n",
            "Incorrect. The correct answer is 60.\n"
          ]
        }
      ]
    },
    {
      "cell_type": "code",
      "source": [
        "# Exercise 3: Squares of Even/Odd Numbers\n",
        "print('Squares of all even numbers')\n",
        "for i in range(100,201,2):\n",
        "  print(f'square of {i} is {i*i}')\n",
        "print('\\nSquares of all odd numbers')\n",
        "for i in range(101,200,2):\n",
        "  print(f'square of {i} is {i*i}')\n"
      ],
      "metadata": {
        "colab": {
          "base_uri": "https://localhost:8080/"
        },
        "id": "jj4jpdgdHHek",
        "outputId": "03b89eca-6611-4b0f-b310-e33f918dd897"
      },
      "execution_count": 27,
      "outputs": [
        {
          "output_type": "stream",
          "name": "stdout",
          "text": [
            "Squares of all even numbers\n",
            "square of 100 is 10000\n",
            "square of 102 is 10404\n",
            "square of 104 is 10816\n",
            "square of 106 is 11236\n",
            "square of 108 is 11664\n",
            "square of 110 is 12100\n",
            "square of 112 is 12544\n",
            "square of 114 is 12996\n",
            "square of 116 is 13456\n",
            "square of 118 is 13924\n",
            "square of 120 is 14400\n",
            "square of 122 is 14884\n",
            "square of 124 is 15376\n",
            "square of 126 is 15876\n",
            "square of 128 is 16384\n",
            "square of 130 is 16900\n",
            "square of 132 is 17424\n",
            "square of 134 is 17956\n",
            "square of 136 is 18496\n",
            "square of 138 is 19044\n",
            "square of 140 is 19600\n",
            "square of 142 is 20164\n",
            "square of 144 is 20736\n",
            "square of 146 is 21316\n",
            "square of 148 is 21904\n",
            "square of 150 is 22500\n",
            "square of 152 is 23104\n",
            "square of 154 is 23716\n",
            "square of 156 is 24336\n",
            "square of 158 is 24964\n",
            "square of 160 is 25600\n",
            "square of 162 is 26244\n",
            "square of 164 is 26896\n",
            "square of 166 is 27556\n",
            "square of 168 is 28224\n",
            "square of 170 is 28900\n",
            "square of 172 is 29584\n",
            "square of 174 is 30276\n",
            "square of 176 is 30976\n",
            "square of 178 is 31684\n",
            "square of 180 is 32400\n",
            "square of 182 is 33124\n",
            "square of 184 is 33856\n",
            "square of 186 is 34596\n",
            "square of 188 is 35344\n",
            "square of 190 is 36100\n",
            "square of 192 is 36864\n",
            "square of 194 is 37636\n",
            "square of 196 is 38416\n",
            "square of 198 is 39204\n",
            "square of 200 is 40000\n",
            "\n",
            "Squares of all odd numbers\n",
            "square of 101 is 10201\n",
            "square of 103 is 10609\n",
            "square of 105 is 11025\n",
            "square of 107 is 11449\n",
            "square of 109 is 11881\n",
            "square of 111 is 12321\n",
            "square of 113 is 12769\n",
            "square of 115 is 13225\n",
            "square of 117 is 13689\n",
            "square of 119 is 14161\n",
            "square of 121 is 14641\n",
            "square of 123 is 15129\n",
            "square of 125 is 15625\n",
            "square of 127 is 16129\n",
            "square of 129 is 16641\n",
            "square of 131 is 17161\n",
            "square of 133 is 17689\n",
            "square of 135 is 18225\n",
            "square of 137 is 18769\n",
            "square of 139 is 19321\n",
            "square of 141 is 19881\n",
            "square of 143 is 20449\n",
            "square of 145 is 21025\n",
            "square of 147 is 21609\n",
            "square of 149 is 22201\n",
            "square of 151 is 22801\n",
            "square of 153 is 23409\n",
            "square of 155 is 24025\n",
            "square of 157 is 24649\n",
            "square of 159 is 25281\n",
            "square of 161 is 25921\n",
            "square of 163 is 26569\n",
            "square of 165 is 27225\n",
            "square of 167 is 27889\n",
            "square of 169 is 28561\n",
            "square of 171 is 29241\n",
            "square of 173 is 29929\n",
            "square of 175 is 30625\n",
            "square of 177 is 31329\n",
            "square of 179 is 32041\n",
            "square of 181 is 32761\n",
            "square of 183 is 33489\n",
            "square of 185 is 34225\n",
            "square of 187 is 34969\n",
            "square of 189 is 35721\n",
            "square of 191 is 36481\n",
            "square of 193 is 37249\n",
            "square of 195 is 38025\n",
            "square of 197 is 38809\n",
            "square of 199 is 39601\n"
          ]
        }
      ]
    },
    {
      "cell_type": "code",
      "source": [
        "# Exercise 4: Word counter\n",
        "\n",
        "def count_words(input_text):\n",
        "    # Convert text to lowercase and split into words\n",
        "    words = input_text.lower().split()\n",
        "\n",
        "    # Initialize an empty dictionary to store word counts\n",
        "    word_counts = {}\n",
        "\n",
        "    # Count occurrences of each word\n",
        "    for word in words:\n",
        "        if word in word_counts:\n",
        "            word_counts[word] += 1\n",
        "        else:\n",
        "            word_counts[word] = 1\n",
        "\n",
        "    # Print the word counts\n",
        "    for word, count in word_counts.items():\n",
        "        print(f\"'{word}': {count}\")\n",
        "\n",
        "\n",
        "input_text = \"This is a sample text. This text will be used to demonstrate the word counter.\"\n",
        "count_words(input_text)"
      ],
      "metadata": {
        "colab": {
          "base_uri": "https://localhost:8080/"
        },
        "id": "CBBhqY4UHHhs",
        "outputId": "4a67e629-9e8a-4008-b9fb-02c15e809f3a"
      },
      "execution_count": 31,
      "outputs": [
        {
          "output_type": "stream",
          "name": "stdout",
          "text": [
            "'this': 2\n",
            "'is': 1\n",
            "'a': 1\n",
            "'sample': 1\n",
            "'text.': 1\n",
            "'text': 1\n",
            "'will': 1\n",
            "'be': 1\n",
            "'used': 1\n",
            "'to': 1\n",
            "'demonstrate': 1\n",
            "'the': 1\n",
            "'word': 1\n",
            "'counter.': 1\n"
          ]
        }
      ]
    },
    {
      "cell_type": "code",
      "source": [
        "# Exercise 5: Check for Palindrome\n",
        "\n",
        "def isPalindrome(s):\n",
        "    return s == s[::-1]\n",
        "s = str(input(\"Enter the paindrome word:\"))\n",
        "ans = isPalindrome(s)\n",
        "if ans:\n",
        "    print(\"True\")\n",
        "else:\n",
        "    print(\"False\")"
      ],
      "metadata": {
        "colab": {
          "base_uri": "https://localhost:8080/"
        },
        "id": "pizxYB9MHHjc",
        "outputId": "c39b92ac-827b-4ea8-d7fb-f207e3762213"
      },
      "execution_count": 32,
      "outputs": [
        {
          "output_type": "stream",
          "name": "stdout",
          "text": [
            "Enter the paindrome word:racecar\n",
            "True\n"
          ]
        }
      ]
    },
    {
      "cell_type": "code",
      "source": [],
      "metadata": {
        "id": "aKHStmbaHHmE"
      },
      "execution_count": null,
      "outputs": []
    },
    {
      "cell_type": "code",
      "source": [],
      "metadata": {
        "id": "isk-Pq4vHHo0"
      },
      "execution_count": null,
      "outputs": []
    },
    {
      "cell_type": "code",
      "source": [],
      "metadata": {
        "id": "xXc2VnNyHHsD"
      },
      "execution_count": null,
      "outputs": []
    }
  ]
}