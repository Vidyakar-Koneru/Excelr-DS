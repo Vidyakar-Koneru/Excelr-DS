{
  "nbformat": 4,
  "nbformat_minor": 0,
  "metadata": {
    "colab": {
      "provenance": []
    },
    "kernelspec": {
      "name": "python3",
      "display_name": "Python 3"
    },
    "language_info": {
      "name": "python"
    }
  },
  "cells": [
    {
      "cell_type": "code",
      "execution_count": 1,
      "metadata": {
        "id": "C55nv-RXezPJ",
        "colab": {
          "base_uri": "https://localhost:8080/"
        },
        "outputId": "d17317d1-534b-499c-aa50-f608b1ddc428"
      },
      "outputs": [
        {
          "output_type": "stream",
          "name": "stdout",
          "text": [
            "Sample Mean: 1.2386666666666666\n",
            "Sample Standard Deviation: 0.19316412956959936\n",
            "\n",
            "99% Confidence Interval using sample standard deviation:\n",
            "Degrees of Freedom: 14\n",
            "Critical t-value: 2.97684273411266\n",
            "Margin of Error: 0.1484693282152996\n",
            "Confidence Interval: 1.090197338451367 1.3871359948819662\n",
            "\n",
            "99% Confidence Interval using known population standard deviation:\n",
            "Known Population Standard Deviation: 0.2\n",
            "Critical z-value: 2.5758293035489004\n",
            "Margin of Error: 0.13301525327090588\n",
            "Confidence Interval: 1.1056514133957607 1.3716819199375725\n"
          ]
        }
      ],
      "source": [
        "\n",
        "import numpy as np\n",
        "import scipy.stats as stats\n",
        "\n",
        "data = [1.13, 1.55, 1.43, 0.92, 1.25, 1.36, 1.32, 0.85, 1.07, 1.48, 1.20, 1.33, 1.18, 1.22, 1.29]\n",
        "\n",
        "n = len(data)\n",
        "sample_mean = np.mean(data)\n",
        "sample_std = np.std(data, ddof=1)\n",
        "\n",
        "\n",
        "# a. 99% Confidence Interval using sample standard deviation\n",
        "df = n - 1\n",
        "t_critical = stats.t.ppf(1 - 0.005, df)\n",
        "margin_of_error_t = t_critical * (sample_std / np.sqrt(n))\n",
        "ci_t = (sample_mean - margin_of_error_t, sample_mean + margin_of_error_t)\n",
        "\n",
        "\n",
        "# b. 99% Confidence Interval using known population standard deviation\n",
        "population_std = 0.2\n",
        "z_critical = stats.norm.ppf(1 - 0.005)\n",
        "margin_of_error_z = z_critical * (population_std / np.sqrt(n))\n",
        "ci_z = (sample_mean - margin_of_error_z, sample_mean + margin_of_error_z)\n",
        "\n",
        "\n",
        "print(\"Sample Mean:\",sample_mean)\n",
        "print(\"Sample Standard Deviation:\",sample_std)\n",
        "\n",
        "print(\"\\n99% Confidence Interval using sample standard deviation:\")\n",
        "print(\"Degrees of Freedom:\",df)\n",
        "print(\"Critical t-value:\",t_critical)\n",
        "print(\"Margin of Error:\",margin_of_error_t)\n",
        "print(\"Confidence Interval:\",ci_t[0],ci_t[1])\n",
        "\n",
        "print(\"\\n99% Confidence Interval using known population standard deviation:\")\n",
        "print(\"Known Population Standard Deviation:\",population_std)\n",
        "print(\"Critical z-value:\",z_critical)\n",
        "print(\"Margin of Error:\",margin_of_error_z)\n",
        "print(\"Confidence Interval:\",ci_z[0],ci_z[1])\n",
        "\n",
        ""
      ]
    }
  ]
}